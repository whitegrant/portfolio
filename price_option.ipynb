{
 "cells": [
  {
   "cell_type": "code",
   "execution_count": 1,
   "id": "d3fd116c-eba5-4bc9-9dba-12b71970895c",
   "metadata": {},
   "outputs": [],
   "source": [
    "import numpy as np\n",
    "from numpy.linalg import inv"
   ]
  },
  {
   "cell_type": "code",
   "execution_count": 2,
   "id": "6ed6d4ac-7ee1-4df6-8c3c-948fea86540d",
   "metadata": {},
   "outputs": [],
   "source": [
    "def get_call_price(steps, stock=100, strike=105, vol=0.25, T=0.5, r=0.01):\n",
    "    # define constants\n",
    "    dt = T / steps\n",
    "    u = np.exp(vol * np.sqrt(dt))\n",
    "    d = np.exp(-vol * np.sqrt(dt))\n",
    "    rf = np.exp(-r * dt)\n",
    "    \n",
    "    # initialize stock/call prices\n",
    "    stock_prices = np.array([stock * u**steps * d**(2*i) for i in range(steps + 1)])\n",
    "    call_prices = np.maximum(stock_prices - strike, 0)\n",
    "        \n",
    "    # iterate\n",
    "    for j in range(steps):\n",
    "        D = np.array([stock_prices, np.ones_like(stock_prices)])\n",
    "        stock_prices = np.array([stock * u**(steps - 1 - j) * d**(2*i) for i in range(steps - j)])\n",
    "        q = np.column_stack((stock_prices, np.full_like(stock_prices, rf)))\n",
    "        phi = np.array([inv(D[:,i:i+2]) @ q[i] for i in range(steps - j)])\n",
    "        call_prices = np.array([call_prices[i:i+2] @ phi[i] for i in range(steps - j)])\n",
    "        \n",
    "    return call_prices[0]"
   ]
  },
  {
   "cell_type": "code",
   "execution_count": 3,
   "id": "2683dd81-ad7a-4036-baed-efd003a21daa",
   "metadata": {},
   "outputs": [],
   "source": [
    "def get_put_price(steps, stock=100, strike=105, vol=0.25, T=0.5, r=0.01):\n",
    "    # define constants\n",
    "    dt = T / steps\n",
    "    u = np.exp(vol * np.sqrt(dt))\n",
    "    d = np.exp(-vol * np.sqrt(dt))\n",
    "    rf = np.exp(-r * dt)\n",
    "    \n",
    "    # initialize stock/put prices\n",
    "    stock_prices = np.array([stock * u**steps * d**(2*i) for i in range(steps + 1)])\n",
    "    put_prices = np.maximum(strike - stock_prices, 0)\n",
    "        \n",
    "    # iterate\n",
    "    for j in range(steps):\n",
    "        D = np.array([stock_prices, np.ones_like(stock_prices)])\n",
    "        stock_prices = np.array([stock * u**(steps - 1 - j) * d**(2*i) for i in range(steps - j)])\n",
    "        q = np.column_stack((stock_prices, np.full_like(stock_prices, rf)))\n",
    "        phi = np.array([inv(D[:,i:i+2]) @ q[i] for i in range(steps - j)])\n",
    "        put_prices = np.array([put_prices[i:i+2] @ phi[i] for i in range(steps - j)])\n",
    "        \n",
    "    return put_prices[0]"
   ]
  },
  {
   "cell_type": "code",
   "execution_count": 4,
   "id": "940475e5-66ab-4126-9518-d9bde1963a41",
   "metadata": {},
   "outputs": [
    {
     "name": "stdout",
     "output_type": "stream",
     "text": [
      "1 : 6.704878614147864\n",
      "2 : 5.337751030600637\n",
      "3 : 5.515524780501442\n",
      "4 : 5.411647419105603\n",
      "5 : 5.271016847462884\n",
      "6 : 5.39501199585966\n",
      "7 : 5.16670846942435\n",
      "8 : 5.369084921671599\n",
      "9 : 5.109027234182362\n"
     ]
    }
   ],
   "source": [
    "for num_steps in range(1, 10):\n",
    "    print(num_steps, ':', get_call_price(num_steps))"
   ]
  },
  {
   "cell_type": "code",
   "execution_count": 5,
   "id": "cf1577d9-7bb6-49db-b641-7b250dab5e0a",
   "metadata": {},
   "outputs": [
    {
     "name": "stdout",
     "output_type": "stream",
     "text": [
      "1 : 11.181188929379505\n",
      "2 : 9.814061345832302\n",
      "3 : 9.991835095733105\n",
      "4 : 9.887957734337254\n",
      "5 : 9.747327162694543\n",
      "6 : 9.871322311091282\n",
      "7 : 9.64301878465599\n",
      "8 : 9.845395236903189\n",
      "9 : 9.585337549414065\n"
     ]
    }
   ],
   "source": [
    "for num_steps in range(1, 10):\n",
    "    print(num_steps, ':', get_put_price(num_steps))"
   ]
  }
 ],
 "metadata": {
  "kernelspec": {
   "display_name": "Python 3 (ipykernel)",
   "language": "python",
   "name": "python3"
  },
  "language_info": {
   "codemirror_mode": {
    "name": "ipython",
    "version": 3
   },
   "file_extension": ".py",
   "mimetype": "text/x-python",
   "name": "python",
   "nbconvert_exporter": "python",
   "pygments_lexer": "ipython3",
   "version": "3.9.13"
  }
 },
 "nbformat": 4,
 "nbformat_minor": 5
}
