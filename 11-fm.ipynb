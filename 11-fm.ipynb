{
 "cells": [
  {
   "cell_type": "markdown",
   "metadata": {},
   "source": [
    "**Fin 585R**  \n",
    "**Diether**  \n",
    "**Problem Set**  \n",
    "**Cross-Sectional Tests of the CAPM**  \n",
    "\n",
    "**Overview**  \n",
    "\n",
    "In this problem set you test the CAPM using a cross-sectional framework. Specifically, you test whether the CAPM holds using the Fama-MacBeth (1973) methodology. Before proceeding you need the datafile for this assignment. It's on Learning Suite ('mstk_fm_29-63.csv') or you can download it directly via this link: [Month Stock file: 29-63](http://diether.org/prephd/11-mstk_fm_29-63.csv). The data are a panel with returns from February 1929 to June of 1963 for all stocks common stocks on CRSP during the period:\n",
    "\n",
    "| Variable | Description                                                                  |\n",
    "|----------|------------------------------------------------------------------------------|\n",
    "| permno   | stock identifier                                                             |\n",
    "| caldt    | the calendar month                                                           |\n",
    "| ret      | return (from the close of the end of month t − 1 to the close of month t)    |\n",
    "| beta     | the estimated beta, estimated using data from months t − 60 to t − 1         |\n",
    "| melag    | market-cap lagged one month                                                  |\n",
    "| bmlag    | book to market equity lagged as in Fama-French (1992)                        |\n",
    "\n",
    "Essentially, your overall task for this homework is an out of sample test of Fama and French (1992).\n",
    "\n",
    "For questions that require some write-up, create a markdown cell (use the Cell Toolbar)  and write your answer in the markdown cell (this cell is a markdown cell and here is a [markdown cheat sheet](https://github.com/adam-p/markdown-here/wiki/Markdown-Cheatsheet)). <br><br>\n",
    "\n",
    "**Tasks and Questions**  \n",
    "\n",
    "1. I want you to test the CAPM by estimating Fama-MacBeth regressions of the following form: <br><br>\n",
    "$$\n",
    "r_{it} = \\gamma_{0t} + \\gamma_{1t}\\hat{\\beta}_{it} + \\gamma_{2t}log(ME_{i,t-1})\n",
    "                     + \\gamma_{3t}log([\\tfrac{B}{M}]_{i,t-1}) + \\nu_{it}\n",
    "$$\n",
    "<br> Explain how estimating these Fama-MacBeth regressions is a test of the CAPM. `Pandas` does *not* have a built in Fama-MacBeth function. It used too, but it was removed. However, the Fin 585 Library does have a Fama MacBeth regression function: [Fama MacBeth Docs](https://fin-library.readthedocs.io/en/latest/fama_macbeth.html). Use it to estimate the regression above.<br><br>\n",
    "\n",
    "2. Based on your results in question (2), can you reject the CAPM? Explain. <br><br>\n",
    "\n",
    "3. This time I want you to estimate Fama-MacBeth regressions of the following form: <br><br>\n",
    "$$\n",
    "r_{it} = \\gamma_{0t} + \\gamma_{1t}\\hat{\\beta}_{it} + \\nu_{it}\n",
    "$$\n",
    "<br> Report the results of your Fama-MacBeth regressions in a table (it should include standard errors and t-statistics).<br><br>\n",
    "\n",
    "4. Based on your results in question (4), can you reject the CAPM? Explain. Is it even possible to ever reject the CAPM with a regression specification like the one you used in question (4)? <br><br>"
   ]
  },
  {
   "cell_type": "code",
   "execution_count": 1,
   "metadata": {},
   "outputs": [],
   "source": [
    "import pandas as pd\n",
    "import numpy as np\n",
    "import statsmodels.formula.api as smf\n",
    "from finance_byu.fama_macbeth import fama_macbeth_master as fm, fm_summary"
   ]
  },
  {
   "cell_type": "code",
   "execution_count": 2,
   "metadata": {},
   "outputs": [
    {
     "data": {
      "text/html": [
       "<div>\n",
       "<style scoped>\n",
       "    .dataframe tbody tr th:only-of-type {\n",
       "        vertical-align: middle;\n",
       "    }\n",
       "\n",
       "    .dataframe tbody tr th {\n",
       "        vertical-align: top;\n",
       "    }\n",
       "\n",
       "    .dataframe thead th {\n",
       "        text-align: right;\n",
       "    }\n",
       "</style>\n",
       "<table border=\"1\" class=\"dataframe\">\n",
       "  <thead>\n",
       "    <tr style=\"text-align: right;\">\n",
       "      <th></th>\n",
       "      <th>permno</th>\n",
       "      <th>caldt</th>\n",
       "      <th>ret</th>\n",
       "      <th>beta</th>\n",
       "      <th>melag</th>\n",
       "      <th>bmlag</th>\n",
       "    </tr>\n",
       "  </thead>\n",
       "  <tbody>\n",
       "    <tr>\n",
       "      <th>0</th>\n",
       "      <td>10006</td>\n",
       "      <td>1929-02-28</td>\n",
       "      <td>0.002519</td>\n",
       "      <td>0.63048</td>\n",
       "      <td>59.55</td>\n",
       "      <td>1.077</td>\n",
       "    </tr>\n",
       "    <tr>\n",
       "      <th>1</th>\n",
       "      <td>10006</td>\n",
       "      <td>1929-03-28</td>\n",
       "      <td>0.027638</td>\n",
       "      <td>0.62575</td>\n",
       "      <td>59.70</td>\n",
       "      <td>1.077</td>\n",
       "    </tr>\n",
       "    <tr>\n",
       "      <th>2</th>\n",
       "      <td>10006</td>\n",
       "      <td>1929-04-30</td>\n",
       "      <td>-0.022333</td>\n",
       "      <td>0.60519</td>\n",
       "      <td>60.45</td>\n",
       "      <td>1.077</td>\n",
       "    </tr>\n",
       "    <tr>\n",
       "      <th>3</th>\n",
       "      <td>10006</td>\n",
       "      <td>1929-05-31</td>\n",
       "      <td>-0.045685</td>\n",
       "      <td>0.60637</td>\n",
       "      <td>59.10</td>\n",
       "      <td>1.077</td>\n",
       "    </tr>\n",
       "    <tr>\n",
       "      <th>4</th>\n",
       "      <td>10006</td>\n",
       "      <td>1929-06-29</td>\n",
       "      <td>0.042553</td>\n",
       "      <td>0.60761</td>\n",
       "      <td>56.40</td>\n",
       "      <td>1.077</td>\n",
       "    </tr>\n",
       "  </tbody>\n",
       "</table>\n",
       "</div>"
      ],
      "text/plain": [
       "   permno      caldt       ret     beta  melag  bmlag\n",
       "0   10006 1929-02-28  0.002519  0.63048  59.55  1.077\n",
       "1   10006 1929-03-28  0.027638  0.62575  59.70  1.077\n",
       "2   10006 1929-04-30 -0.022333  0.60519  60.45  1.077\n",
       "3   10006 1929-05-31 -0.045685  0.60637  59.10  1.077\n",
       "4   10006 1929-06-29  0.042553  0.60761  56.40  1.077"
      ]
     },
     "execution_count": 2,
     "metadata": {},
     "output_type": "execute_result"
    }
   ],
   "source": [
    "df = pd.read_csv('../data/11-mstk_fm_29-63.csv', parse_dates=['caldt'])\n",
    "df.head()"
   ]
  },
  {
   "cell_type": "markdown",
   "metadata": {},
   "source": [
    "1. I want you to test the CAPM by estimating Fama-MacBeth regressions of the following form: <br><br>\n",
    "$$\n",
    "r_{it} = \\gamma_{0t} + \\gamma_{1t}\\hat{\\beta}_{it} + \\gamma_{2t}log(ME_{i,t-1})\n",
    "                     + \\gamma_{3t}log([\\tfrac{B}{M}]_{i,t-1}) + \\nu_{it}\n",
    "$$\n",
    "<br> Explain how estimating these Fama-MacBeth regressions is a test of the CAPM. `Pandas` does *not* have a built in Fama-MacBeth function. It used too, but it was removed. However, the Fin 585 Library does have a Fama MacBeth regression function: [Fama MacBeth Docs](https://fin-library.readthedocs.io/en/latest/fama_macbeth.html). Use it to estimate the regression above."
   ]
  },
  {
   "cell_type": "code",
   "execution_count": 3,
   "metadata": {},
   "outputs": [
    {
     "data": {
      "text/html": [
       "<div>\n",
       "<style scoped>\n",
       "    .dataframe tbody tr th:only-of-type {\n",
       "        vertical-align: middle;\n",
       "    }\n",
       "\n",
       "    .dataframe tbody tr th {\n",
       "        vertical-align: top;\n",
       "    }\n",
       "\n",
       "    .dataframe thead th {\n",
       "        text-align: right;\n",
       "    }\n",
       "</style>\n",
       "<table border=\"1\" class=\"dataframe\">\n",
       "  <thead>\n",
       "    <tr style=\"text-align: right;\">\n",
       "      <th></th>\n",
       "      <th>permno</th>\n",
       "      <th>caldt</th>\n",
       "      <th>ret</th>\n",
       "      <th>beta</th>\n",
       "      <th>melag</th>\n",
       "      <th>bmlag</th>\n",
       "      <th>melaglog</th>\n",
       "      <th>bmlaglog</th>\n",
       "    </tr>\n",
       "  </thead>\n",
       "  <tbody>\n",
       "    <tr>\n",
       "      <th>0</th>\n",
       "      <td>10006</td>\n",
       "      <td>1929-02-28</td>\n",
       "      <td>0.002519</td>\n",
       "      <td>0.63048</td>\n",
       "      <td>59.55</td>\n",
       "      <td>1.077</td>\n",
       "      <td>4.086816</td>\n",
       "      <td>0.074179</td>\n",
       "    </tr>\n",
       "    <tr>\n",
       "      <th>1</th>\n",
       "      <td>10006</td>\n",
       "      <td>1929-03-28</td>\n",
       "      <td>0.027638</td>\n",
       "      <td>0.62575</td>\n",
       "      <td>59.70</td>\n",
       "      <td>1.077</td>\n",
       "      <td>4.089332</td>\n",
       "      <td>0.074179</td>\n",
       "    </tr>\n",
       "    <tr>\n",
       "      <th>2</th>\n",
       "      <td>10006</td>\n",
       "      <td>1929-04-30</td>\n",
       "      <td>-0.022333</td>\n",
       "      <td>0.60519</td>\n",
       "      <td>60.45</td>\n",
       "      <td>1.077</td>\n",
       "      <td>4.101817</td>\n",
       "      <td>0.074179</td>\n",
       "    </tr>\n",
       "    <tr>\n",
       "      <th>3</th>\n",
       "      <td>10006</td>\n",
       "      <td>1929-05-31</td>\n",
       "      <td>-0.045685</td>\n",
       "      <td>0.60637</td>\n",
       "      <td>59.10</td>\n",
       "      <td>1.077</td>\n",
       "      <td>4.079231</td>\n",
       "      <td>0.074179</td>\n",
       "    </tr>\n",
       "    <tr>\n",
       "      <th>4</th>\n",
       "      <td>10006</td>\n",
       "      <td>1929-06-29</td>\n",
       "      <td>0.042553</td>\n",
       "      <td>0.60761</td>\n",
       "      <td>56.40</td>\n",
       "      <td>1.077</td>\n",
       "      <td>4.032469</td>\n",
       "      <td>0.074179</td>\n",
       "    </tr>\n",
       "  </tbody>\n",
       "</table>\n",
       "</div>"
      ],
      "text/plain": [
       "   permno      caldt       ret     beta  melag  bmlag  melaglog  bmlaglog\n",
       "0   10006 1929-02-28  0.002519  0.63048  59.55  1.077  4.086816  0.074179\n",
       "1   10006 1929-03-28  0.027638  0.62575  59.70  1.077  4.089332  0.074179\n",
       "2   10006 1929-04-30 -0.022333  0.60519  60.45  1.077  4.101817  0.074179\n",
       "3   10006 1929-05-31 -0.045685  0.60637  59.10  1.077  4.079231  0.074179\n",
       "4   10006 1929-06-29  0.042553  0.60761  56.40  1.077  4.032469  0.074179"
      ]
     },
     "execution_count": 3,
     "metadata": {},
     "output_type": "execute_result"
    }
   ],
   "source": [
    "df['melaglog'] = np.log(df['melag'])\n",
    "df['bmlaglog'] = np.log(df['bmlag'])\n",
    "df.head()"
   ]
  },
  {
   "cell_type": "code",
   "execution_count": 4,
   "metadata": {},
   "outputs": [
    {
     "data": {
      "text/html": [
       "<div>\n",
       "<style scoped>\n",
       "    .dataframe tbody tr th:only-of-type {\n",
       "        vertical-align: middle;\n",
       "    }\n",
       "\n",
       "    .dataframe tbody tr th {\n",
       "        vertical-align: top;\n",
       "    }\n",
       "\n",
       "    .dataframe thead th {\n",
       "        text-align: right;\n",
       "    }\n",
       "</style>\n",
       "<table border=\"1\" class=\"dataframe\">\n",
       "  <thead>\n",
       "    <tr style=\"text-align: right;\">\n",
       "      <th></th>\n",
       "      <th>mean</th>\n",
       "      <th>std_error</th>\n",
       "      <th>tstat</th>\n",
       "    </tr>\n",
       "  </thead>\n",
       "  <tbody>\n",
       "    <tr>\n",
       "      <th>intercept</th>\n",
       "      <td>0.019000</td>\n",
       "      <td>0.003188</td>\n",
       "      <td>5.960420</td>\n",
       "    </tr>\n",
       "    <tr>\n",
       "      <th>beta</th>\n",
       "      <td>0.001663</td>\n",
       "      <td>0.002495</td>\n",
       "      <td>0.666646</td>\n",
       "    </tr>\n",
       "    <tr>\n",
       "      <th>melaglog</th>\n",
       "      <td>-0.002957</td>\n",
       "      <td>0.000581</td>\n",
       "      <td>-5.090217</td>\n",
       "    </tr>\n",
       "    <tr>\n",
       "      <th>bmlaglog</th>\n",
       "      <td>0.002308</td>\n",
       "      <td>0.000849</td>\n",
       "      <td>2.719111</td>\n",
       "    </tr>\n",
       "  </tbody>\n",
       "</table>\n",
       "</div>"
      ],
      "text/plain": [
       "               mean  std_error     tstat\n",
       "intercept  0.019000   0.003188  5.960420\n",
       "beta       0.001663   0.002495  0.666646\n",
       "melaglog  -0.002957   0.000581 -5.090217\n",
       "bmlaglog   0.002308   0.000849  2.719111"
      ]
     },
     "execution_count": 4,
     "metadata": {},
     "output_type": "execute_result"
    }
   ],
   "source": [
    "results = fm(df.copy(), 'caldt', 'ret', ['beta', 'melaglog', 'bmlaglog'], intercept=True)\n",
    "fm_summary(results)"
   ]
  },
  {
   "cell_type": "markdown",
   "metadata": {},
   "source": [
    "Estimating these Fama-MacBeth regressions test the CAPM by comparing the returns of all stocks cross-sectionally and overtime. If the coefficients estimated are non-zero and significant, this shows the CAPM is wrong. There are other factors that account for returns other than market beta."
   ]
  },
  {
   "cell_type": "markdown",
   "metadata": {},
   "source": [
    "2. Based on your results in question (2), can you reject the CAPM? Explain."
   ]
  },
  {
   "cell_type": "markdown",
   "metadata": {},
   "source": [
    "Yes. The t-statistic for log(melag) and log(bmlag) are -5.1 and 2.7 respectively. These are both very large and tell us there are other factors that account for returns other than market beta."
   ]
  },
  {
   "cell_type": "markdown",
   "metadata": {},
   "source": [
    "3. This time I want you to estimate Fama-MacBeth regressions of the following form: <br><br>\n",
    "$$\n",
    "r_{it} = \\gamma_{0t} + \\gamma_{1t}\\hat{\\beta}_{it} + \\nu_{it}\n",
    "$$\n",
    "<br> Report the results of your Fama-MacBeth regressions in a table (it should include standard errors and t-statistics)."
   ]
  },
  {
   "cell_type": "code",
   "execution_count": 6,
   "metadata": {},
   "outputs": [
    {
     "data": {
      "text/html": [
       "<div>\n",
       "<style scoped>\n",
       "    .dataframe tbody tr th:only-of-type {\n",
       "        vertical-align: middle;\n",
       "    }\n",
       "\n",
       "    .dataframe tbody tr th {\n",
       "        vertical-align: top;\n",
       "    }\n",
       "\n",
       "    .dataframe thead th {\n",
       "        text-align: right;\n",
       "    }\n",
       "</style>\n",
       "<table border=\"1\" class=\"dataframe\">\n",
       "  <thead>\n",
       "    <tr style=\"text-align: right;\">\n",
       "      <th></th>\n",
       "      <th>mean</th>\n",
       "      <th>std_error</th>\n",
       "      <th>tstat</th>\n",
       "    </tr>\n",
       "  </thead>\n",
       "  <tbody>\n",
       "    <tr>\n",
       "      <th>intercept</th>\n",
       "      <td>0.00767</td>\n",
       "      <td>0.001921</td>\n",
       "      <td>3.992866</td>\n",
       "    </tr>\n",
       "    <tr>\n",
       "      <th>beta</th>\n",
       "      <td>0.00522</td>\n",
       "      <td>0.002853</td>\n",
       "      <td>1.829372</td>\n",
       "    </tr>\n",
       "  </tbody>\n",
       "</table>\n",
       "</div>"
      ],
      "text/plain": [
       "              mean  std_error     tstat\n",
       "intercept  0.00767   0.001921  3.992866\n",
       "beta       0.00522   0.002853  1.829372"
      ]
     },
     "execution_count": 6,
     "metadata": {},
     "output_type": "execute_result"
    }
   ],
   "source": [
    "results = fm(df.copy(), 'caldt', 'ret', ['beta'], intercept=True)\n",
    "fm_summary(results)"
   ]
  },
  {
   "cell_type": "markdown",
   "metadata": {},
   "source": [
    "4. Based on your results in question (4), can you reject the CAPM? Explain. Is it even possible to ever reject the CAPM with a regression specification like the one you used in question (4)?"
   ]
  },
  {
   "cell_type": "markdown",
   "metadata": {},
   "source": [
    "No. This is the CAPM, so it just shows some return is explained by market beta. Acording to this model, the rest of returns are explained by $\\nu$ (or random noise). It is impossible to reject the CAPM with this model."
   ]
  }
 ],
 "metadata": {
  "anaconda-cloud": {},
  "kernelspec": {
   "display_name": "Python 3 (ipykernel)",
   "language": "python",
   "name": "python3"
  },
  "language_info": {
   "codemirror_mode": {
    "name": "ipython",
    "version": 3
   },
   "file_extension": ".py",
   "mimetype": "text/x-python",
   "name": "python",
   "nbconvert_exporter": "python",
   "pygments_lexer": "ipython3",
   "version": "3.9.13"
  }
 },
 "nbformat": 4,
 "nbformat_minor": 4
}
